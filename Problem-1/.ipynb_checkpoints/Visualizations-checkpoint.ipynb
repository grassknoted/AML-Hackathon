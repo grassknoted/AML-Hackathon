{
 "cells": [
  {
   "cell_type": "code",
   "execution_count": 1,
   "metadata": {},
   "outputs": [],
   "source": [
    "import os\n",
    "import numpy as np\n",
    "import pandas as pd\n",
    "import matplotlib.pyplot as plt"
   ]
  },
  {
   "cell_type": "code",
   "execution_count": 2,
   "metadata": {},
   "outputs": [],
   "source": [
    "dataset_path ='../../Hackathon/Selfie-dataset/selfie_dataset.txt'"
   ]
  },
  {
   "cell_type": "code",
   "execution_count": 3,
   "metadata": {},
   "outputs": [],
   "source": [
    "header_names = [\"image_name\",\n",
    "\"popularity_score\",\n",
    "\"partial_faces\",\n",
    "\"is_female\",\n",
    "\"baby\",\n",
    "\"child\",\n",
    "\"teenager\",\n",
    "\"youth\",\n",
    "\"middle_age\",\n",
    "\"senior\",\n",
    "\"white\",\n",
    "\"black\",\n",
    "\"asian\",\n",
    "\"oval_face\",\n",
    "\"round_face\",\n",
    "\"heart_face\",\n",
    "\"smiling\",\n",
    "\"mouth_open\",\n",
    "\"frowning\",\n",
    "\"wearing_glasses\",\n",
    "\"wearing_sunglasses\",\n",
    "\"wearing_lipstick\",\n",
    "\"tongue_out\",\n",
    "\"duck_face\",\n",
    "\"black_hair\",\n",
    "\"blond_hair\",\n",
    "\"brown_hair\",\n",
    "\"red_hair\",\n",
    "\"curly_hair\",\n",
    "\"straight_hair\",\n",
    "\"braid_hair\",\n",
    "\"showing_cellphone\",\n",
    "\"using_earphone\",\n",
    "\"using_mirror\",\n",
    "\"braces\",\n",
    "\"wearing_hat\",\n",
    "\"harsh_lighting\",\n",
    "\"dim_lighting\",]"
   ]
  },
  {
   "cell_type": "code",
   "execution_count": 4,
   "metadata": {
    "scrolled": true
   },
   "outputs": [
    {
     "data": {
      "text/html": [
       "<div>\n",
       "<style scoped>\n",
       "    .dataframe tbody tr th:only-of-type {\n",
       "        vertical-align: middle;\n",
       "    }\n",
       "\n",
       "    .dataframe tbody tr th {\n",
       "        vertical-align: top;\n",
       "    }\n",
       "\n",
       "    .dataframe thead th {\n",
       "        text-align: right;\n",
       "    }\n",
       "</style>\n",
       "<table border=\"1\" class=\"dataframe\">\n",
       "  <thead>\n",
       "    <tr style=\"text-align: right;\">\n",
       "      <th></th>\n",
       "      <th>image_name</th>\n",
       "      <th>popularity_score</th>\n",
       "      <th>partial_faces</th>\n",
       "      <th>is_female</th>\n",
       "      <th>baby</th>\n",
       "      <th>child</th>\n",
       "      <th>teenager</th>\n",
       "      <th>youth</th>\n",
       "      <th>middle_age</th>\n",
       "      <th>senior</th>\n",
       "      <th>...</th>\n",
       "      <th>curly_hair</th>\n",
       "      <th>straight_hair</th>\n",
       "      <th>braid_hair</th>\n",
       "      <th>showing_cellphone</th>\n",
       "      <th>using_earphone</th>\n",
       "      <th>using_mirror</th>\n",
       "      <th>braces</th>\n",
       "      <th>wearing_hat</th>\n",
       "      <th>harsh_lighting</th>\n",
       "      <th>dim_lighting</th>\n",
       "    </tr>\n",
       "  </thead>\n",
       "  <tbody>\n",
       "    <tr>\n",
       "      <th>0</th>\n",
       "      <td>00a454da495e11e28a7322000a1fa414_6</td>\n",
       "      <td>3.901</td>\n",
       "      <td>1</td>\n",
       "      <td>1</td>\n",
       "      <td>-1</td>\n",
       "      <td>-1</td>\n",
       "      <td>-1</td>\n",
       "      <td>1</td>\n",
       "      <td>-1</td>\n",
       "      <td>-1</td>\n",
       "      <td>...</td>\n",
       "      <td>-1</td>\n",
       "      <td>-1</td>\n",
       "      <td>-1</td>\n",
       "      <td>-1</td>\n",
       "      <td>-1</td>\n",
       "      <td>-1</td>\n",
       "      <td>-1</td>\n",
       "      <td>-1</td>\n",
       "      <td>-1</td>\n",
       "      <td>-1</td>\n",
       "    </tr>\n",
       "    <tr>\n",
       "      <th>1</th>\n",
       "      <td>00cddb96ac4c11e3a30212279ba1b65f_6</td>\n",
       "      <td>4.385</td>\n",
       "      <td>1</td>\n",
       "      <td>1</td>\n",
       "      <td>-1</td>\n",
       "      <td>-1</td>\n",
       "      <td>-1</td>\n",
       "      <td>-1</td>\n",
       "      <td>-1</td>\n",
       "      <td>-1</td>\n",
       "      <td>...</td>\n",
       "      <td>-1</td>\n",
       "      <td>-1</td>\n",
       "      <td>-1</td>\n",
       "      <td>-1</td>\n",
       "      <td>-1</td>\n",
       "      <td>-1</td>\n",
       "      <td>-1</td>\n",
       "      <td>-1</td>\n",
       "      <td>-1</td>\n",
       "      <td>-1</td>\n",
       "    </tr>\n",
       "    <tr>\n",
       "      <th>2</th>\n",
       "      <td>01cdd7aa1a1a11e2aaa822000a1fb0dd_6</td>\n",
       "      <td>4.243</td>\n",
       "      <td>-1</td>\n",
       "      <td>1</td>\n",
       "      <td>-1</td>\n",
       "      <td>-1</td>\n",
       "      <td>1</td>\n",
       "      <td>-1</td>\n",
       "      <td>-1</td>\n",
       "      <td>-1</td>\n",
       "      <td>...</td>\n",
       "      <td>-1</td>\n",
       "      <td>-1</td>\n",
       "      <td>-1</td>\n",
       "      <td>-1</td>\n",
       "      <td>-1</td>\n",
       "      <td>-1</td>\n",
       "      <td>-1</td>\n",
       "      <td>-1</td>\n",
       "      <td>-1</td>\n",
       "      <td>-1</td>\n",
       "    </tr>\n",
       "    <tr>\n",
       "      <th>3</th>\n",
       "      <td>024696bead0c11e389d50ec42b3b1b1c_6</td>\n",
       "      <td>4.169</td>\n",
       "      <td>-1</td>\n",
       "      <td>-1</td>\n",
       "      <td>-1</td>\n",
       "      <td>-1</td>\n",
       "      <td>1</td>\n",
       "      <td>-1</td>\n",
       "      <td>-1</td>\n",
       "      <td>-1</td>\n",
       "      <td>...</td>\n",
       "      <td>-1</td>\n",
       "      <td>-1</td>\n",
       "      <td>-1</td>\n",
       "      <td>-1</td>\n",
       "      <td>-1</td>\n",
       "      <td>-1</td>\n",
       "      <td>-1</td>\n",
       "      <td>-1</td>\n",
       "      <td>-1</td>\n",
       "      <td>-1</td>\n",
       "    </tr>\n",
       "    <tr>\n",
       "      <th>4</th>\n",
       "      <td>026df048221a11e2b52122000a1fa4b5_6</td>\n",
       "      <td>3.873</td>\n",
       "      <td>-1</td>\n",
       "      <td>1</td>\n",
       "      <td>-1</td>\n",
       "      <td>-1</td>\n",
       "      <td>-1</td>\n",
       "      <td>-1</td>\n",
       "      <td>1</td>\n",
       "      <td>-1</td>\n",
       "      <td>...</td>\n",
       "      <td>-1</td>\n",
       "      <td>1</td>\n",
       "      <td>-1</td>\n",
       "      <td>-1</td>\n",
       "      <td>-1</td>\n",
       "      <td>-1</td>\n",
       "      <td>-1</td>\n",
       "      <td>-1</td>\n",
       "      <td>-1</td>\n",
       "      <td>-1</td>\n",
       "    </tr>\n",
       "  </tbody>\n",
       "</table>\n",
       "<p>5 rows × 38 columns</p>\n",
       "</div>"
      ],
      "text/plain": [
       "                           image_name  popularity_score  partial_faces  \\\n",
       "0  00a454da495e11e28a7322000a1fa414_6             3.901              1   \n",
       "1  00cddb96ac4c11e3a30212279ba1b65f_6             4.385              1   \n",
       "2  01cdd7aa1a1a11e2aaa822000a1fb0dd_6             4.243             -1   \n",
       "3  024696bead0c11e389d50ec42b3b1b1c_6             4.169             -1   \n",
       "4  026df048221a11e2b52122000a1fa4b5_6             3.873             -1   \n",
       "\n",
       "   is_female  baby  child  teenager  youth  middle_age  senior      ...       \\\n",
       "0          1    -1     -1        -1      1          -1      -1      ...        \n",
       "1          1    -1     -1        -1     -1          -1      -1      ...        \n",
       "2          1    -1     -1         1     -1          -1      -1      ...        \n",
       "3         -1    -1     -1         1     -1          -1      -1      ...        \n",
       "4          1    -1     -1        -1     -1           1      -1      ...        \n",
       "\n",
       "   curly_hair  straight_hair  braid_hair  showing_cellphone  using_earphone  \\\n",
       "0          -1             -1          -1                 -1              -1   \n",
       "1          -1             -1          -1                 -1              -1   \n",
       "2          -1             -1          -1                 -1              -1   \n",
       "3          -1             -1          -1                 -1              -1   \n",
       "4          -1              1          -1                 -1              -1   \n",
       "\n",
       "   using_mirror  braces  wearing_hat  harsh_lighting  dim_lighting  \n",
       "0            -1      -1           -1              -1            -1  \n",
       "1            -1      -1           -1              -1            -1  \n",
       "2            -1      -1           -1              -1            -1  \n",
       "3            -1      -1           -1              -1            -1  \n",
       "4            -1      -1           -1              -1            -1  \n",
       "\n",
       "[5 rows x 38 columns]"
      ]
     },
     "execution_count": 4,
     "metadata": {},
     "output_type": "execute_result"
    }
   ],
   "source": [
    "dataframe = pd.read_csv(dataset_path, header=None, delimiter=' ', names=header_names)\n",
    "dataframe.head()"
   ]
  },
  {
   "cell_type": "markdown",
   "metadata": {},
   "source": [
    "## Correlation between the required attributes"
   ]
  },
  {
   "cell_type": "code",
   "execution_count": 5,
   "metadata": {},
   "outputs": [],
   "source": [
    "baby = dataframe['baby']\n",
    "is_female = dataframe['is_female']\n",
    "child = dataframe['child']\n",
    "teenager = dataframe['teenager']\n",
    "youth = dataframe['youth']\n",
    "middle_age = dataframe['middle_age']\n",
    "senior = dataframe['senior']\n",
    "\n",
    "visualize_dataframe = dataframe[['is_female', 'baby', 'child', 'teenager', 'youth', 'middle_age', 'senior']]"
   ]
  },
  {
   "cell_type": "code",
   "execution_count": 6,
   "metadata": {},
   "outputs": [
    {
     "data": {
      "image/png": "[encoded data removed]",
      "text/plain": [
       "<Figure size 432x288 with 2 Axes>"
      ]
     },
     "metadata": {},
     "output_type": "display_data"
    }
   ],
   "source": [
    "alpha = ['is_female', 'baby', 'child', 'teenager', 'youth', 'middle_age', 'senior']\n",
    "\n",
    "fig = plt.figure()\n",
    "ax = fig.add_subplot(111)\n",
    "cax = ax.matshow(visualize_dataframe.corr())\n",
    "fig.colorbar(cax)\n",
    "\n",
    "ax.set_xticklabels(['']+alpha)\n",
    "ax.set_yticklabels(['']+alpha)\n",
    "\n",
    "plt.xticks(rotation=60)\n",
    "\n",
    "plt.show()\n",
    "\n",
    "# plt.matshow(visualize_dataframe.corr())"
   ]
  },
  {
   "cell_type": "markdown",
   "metadata": {},
   "source": [
    "### Strong correlation between youth and middle_age, so we explore that further"
   ]
  },
  {
   "cell_type": "code",
   "execution_count": 7,
   "metadata": {},
   "outputs": [
    {
     "data": {
      "image/png": "[encoded data removed]",
      "text/plain": [
       "<Figure size 432x288 with 1 Axes>"
      ]
     },
     "metadata": {},
     "output_type": "display_data"
    },
    {
     "data": {
      "image/png": "[encoded data removed]",
      "text/plain": [
       "<Figure size 432x288 with 1 Axes>"
      ]
     },
     "metadata": {},
     "output_type": "display_data"
    }
   ],
   "source": [
    "plt.bar(dataframe['youth'].unique(), dataframe['youth'].value_counts().values)\n",
    "plt.title(\"Youth\")\n",
    "plt.show()\n",
    "\n",
    "plt.bar(dataframe['middle_age'].unique(), dataframe['middle_age'].value_counts().values, color=\"orange\")\n",
    "plt.title(\"Middle Age\")\n",
    "plt.show()"
   ]
  },
  {
   "cell_type": "markdown",
   "metadata": {},
   "source": [
    "## Comparing Positive and Negative instances of Required Parameters"
   ]
  },
  {
   "cell_type": "code",
   "execution_count": 25,
   "metadata": {},
   "outputs": [],
   "source": [
    "baby_1 = len(dataframe.loc[dataframe['baby'] == 1])\n",
    "is_female_1 = len(dataframe.loc[dataframe['is_female'] == 1])\n",
    "child_1 = len(dataframe.loc[dataframe['child'] == 1])\n",
    "teenager_1 = len(dataframe.loc[dataframe['teenager'] == 1])\n",
    "youth_1 = len(dataframe.loc[dataframe['youth'] == 1])\n",
    "middle_age_1 = len(dataframe.loc[dataframe['middle_age'] == 1])\n",
    "senior_1 = len(dataframe.loc[dataframe['senior'] == 1])\n",
    "\n",
    "baby_0 = len(dataframe.loc[dataframe['baby'] != 1])\n",
    "is_female_0 = len(dataframe.loc[dataframe['is_female'] != 1])\n",
    "child_0 = len(dataframe.loc[dataframe['child'] != 1])\n",
    "teenager_0 = len(dataframe.loc[dataframe['teenager'] != 1])\n",
    "youth_0 = len(dataframe.loc[dataframe['youth'] != 1])\n",
    "middle_age_0 = len(dataframe.loc[dataframe['middle_age'] != 1])\n",
    "senior_0 = len(dataframe.loc[dataframe['senior'] != 1])"
   ]
  },
  {
   "cell_type": "code",
   "execution_count": 36,
   "metadata": {
    "scrolled": true
   },
   "outputs": [
    {
     "name": "stdout",
     "output_type": "stream",
     "text": [
      "Positive Class Sum = 40046\n",
      "Negative Class Sum = 240970\n"
     ]
    }
   ],
   "source": [
    "positive_sum = (baby_1 + is_female_1 + child_1 + teenager_1 + youth_1 + middle_age_1 + senior_1)\n",
    "negative_sum = (baby_0 + is_female_0 + child_0 + teenager_0 + youth_0 + middle_age_0 + senior_0)\n",
    "\n",
    "print(\"Positive Class Sum =\", positive_sum)\n",
    "print(\"Negative Class Sum =\", negative_sum)"
   ]
  },
  {
   "cell_type": "code",
   "execution_count": 21,
   "metadata": {},
   "outputs": [
    {
     "data": {
      "image/png": "[encoded data removed]",
      "text/plain": [
       "<Figure size 432x288 with 1 Axes>"
      ]
     },
     "metadata": {},
     "output_type": "display_data"
    },
    {
     "data": {
      "image/png": "[encoded data removed]",
      "text/plain": [
       "<Figure size 432x288 with 1 Axes>"
      ]
     },
     "metadata": {},
     "output_type": "display_data"
    }
   ],
   "source": [
    "required_parameters_1 = [baby_1, is_female_1, child_1, teenager_1, youth_1, middle_age_1, senior_1]\n",
    "plt.bar(['baby', 'is_female', 'child', 'teenager', 'youth', 'middle_age', 'senior'], height=required_parameters_1)\n",
    "plt.xticks(rotation=60)\n",
    "plt.show()\n",
    "\n",
    "required_parameters_0 = [baby_0, is_female_0, child_0, teenager_0, youth_0, middle_age_0, senior_0]\n",
    "plt.bar(['baby', 'is_female', 'child', 'teenager', 'youth', 'middle_age', 'senior'], height=required_parameters_0, color=\"orange\")\n",
    "plt.xticks(rotation=60)\n",
    "plt.show()"
   ]
  },
  {
   "cell_type": "markdown",
   "metadata": {},
   "source": [
    "## Comapring Age Groups"
   ]
  },
  {
   "cell_type": "code",
   "execution_count": 29,
   "metadata": {},
   "outputs": [
    {
     "data": {
      "image/png": "[encoded data removed]",
      "text/plain": [
       "<Figure size 432x288 with 1 Axes>"
      ]
     },
     "metadata": {},
     "output_type": "display_data"
    }
   ],
   "source": [
    "required_parameters_age_groups = [baby_1, child_1, teenager_1, youth_1, middle_age_1, senior_1]\n",
    "plt.bar(['baby', 'child', 'teenager', 'youth', 'middle_age', 'senior'], height=required_parameters_age_groups)\n",
    "plt.xticks(rotation=60)\n",
    "plt.show()"
   ]
  },
  {
   "cell_type": "markdown",
   "metadata": {},
   "source": [
    "#### We see that youth is the largest age group, and there is a class imbalance."
   ]
  },
  {
   "cell_type": "markdown",
   "metadata": {},
   "source": [
    "## Comparing Genders"
   ]
  },
  {
   "cell_type": "code",
   "execution_count": 31,
   "metadata": {},
   "outputs": [
    {
     "data": {
      "image/png": "[encoded data removed]",
      "text/plain": [
       "<Figure size 432x288 with 1 Axes>"
      ]
     },
     "metadata": {},
     "output_type": "display_data"
    }
   ],
   "source": [
    "required_parameters_genders = [is_female_1, is_female_0]\n",
    "plt.bar(['female', 'not female'], height=required_parameters_genders, color = \"green\")\n",
    "plt.xticks(rotation=60)\n",
    "plt.show()"
   ]
  },
  {
   "cell_type": "markdown",
   "metadata": {},
   "source": [
    "#### We see that the number of females, outnumber the number of instances that are not females."
   ]
  },
  {
   "cell_type": "code",
   "execution_count": null,
   "metadata": {},
   "outputs": [],
   "source": [
    "# Senior 16 + 1024 = 1040\n",
    "# Baby 196 + 748 = 944\n",
    "# Child 796 + = 1568"
   ]
  }
 ],
 "metadata": {
  "kernelspec": {
   "display_name": "Python 3",
   "language": "python",
   "name": "python3"
  },
  "language_info": {
   "codemirror_mode": {
    "name": "ipython",
    "version": 3
   },
   "file_extension": ".py",
   "mimetype": "text/x-python",
   "name": "python",
   "nbconvert_exporter": "python",
   "pygments_lexer": "ipython3",
   "version": "3.6.5"
  }
 },
 "nbformat": 4,
 "nbformat_minor": 2
}
